{
  "nbformat": 4,
  "nbformat_minor": 0,
  "metadata": {
    "colab": {
      "provenance": [],
      "gpuType": "T4"
    },
    "kernelspec": {
      "name": "python3",
      "display_name": "Python 3"
    },
    "language_info": {
      "name": "python"
    },
    "accelerator": "GPU",
    "gpuClass": "standard"
  },
  "cells": [
    {
      "cell_type": "markdown",
      "source": [
        "# **Import All Dependencies Required to Run Code**"
      ],
      "metadata": {
        "id": "T06Fwnlt9wLw"
      }
    },
    {
      "cell_type": "code",
      "source": [
        "!pip install tensorflow_addons\n",
        "!pip install sklearn\n"
      ],
      "metadata": {
        "colab": {
          "base_uri": "https://localhost:8080/"
        },
        "id": "gVZAOE1AFxpy",
        "outputId": "64f8fa83-f39f-4539-e508-e448ae5a2700"
      },
      "execution_count": 1,
      "outputs": [
        {
          "output_type": "stream",
          "name": "stdout",
          "text": [
            "Looking in indexes: https://pypi.org/simple, https://us-python.pkg.dev/colab-wheels/public/simple/\n",
            "Collecting tensorflow_addons\n",
            "  Downloading tensorflow_addons-0.20.0-cp310-cp310-manylinux_2_17_x86_64.manylinux2014_x86_64.whl (591 kB)\n",
            "\u001b[2K     \u001b[90m━━━━━━━━━━━━━━━━━━━━━━━━━━━━━━━━━━━━━━━\u001b[0m \u001b[32m591.0/591.0 kB\u001b[0m \u001b[31m6.7 MB/s\u001b[0m eta \u001b[36m0:00:00\u001b[0m\n",
            "\u001b[?25hRequirement already satisfied: packaging in /usr/local/lib/python3.10/dist-packages (from tensorflow_addons) (23.1)\n",
            "Collecting typeguard<3.0.0,>=2.7 (from tensorflow_addons)\n",
            "  Downloading typeguard-2.13.3-py3-none-any.whl (17 kB)\n",
            "Installing collected packages: typeguard, tensorflow_addons\n",
            "Successfully installed tensorflow_addons-0.20.0 typeguard-2.13.3\n",
            "Looking in indexes: https://pypi.org/simple, https://us-python.pkg.dev/colab-wheels/public/simple/\n",
            "Collecting sklearn\n",
            "  Downloading sklearn-0.0.post5.tar.gz (3.7 kB)\n",
            "  Preparing metadata (setup.py) ... \u001b[?25l\u001b[?25hdone\n",
            "Building wheels for collected packages: sklearn\n",
            "  Building wheel for sklearn (setup.py) ... \u001b[?25l\u001b[?25hdone\n",
            "  Created wheel for sklearn: filename=sklearn-0.0.post5-py3-none-any.whl size=2950 sha256=84ac015f8cbf31f9081314efc049ad5ed67adaf1d162d8858cffda48d9ad25f3\n",
            "  Stored in directory: /root/.cache/pip/wheels/38/1f/8d/4f812c590e074c1e928f5cec67bf5053b71f38e2648739403a\n",
            "Successfully built sklearn\n",
            "Installing collected packages: sklearn\n",
            "Successfully installed sklearn-0.0.post5\n"
          ]
        }
      ]
    },
    {
      "cell_type": "code",
      "execution_count": 2,
      "metadata": {
        "id": "0HCGUjbG9bSG",
        "colab": {
          "base_uri": "https://localhost:8080/"
        },
        "outputId": "2adc7695-afb4-44c3-bd8a-c05be2b39459"
      },
      "outputs": [
        {
          "output_type": "stream",
          "name": "stderr",
          "text": [
            "/usr/local/lib/python3.10/dist-packages/tensorflow_addons/utils/tfa_eol_msg.py:23: UserWarning: \n",
            "\n",
            "TensorFlow Addons (TFA) has ended development and introduction of new features.\n",
            "TFA has entered a minimal maintenance and release mode until a planned end of life in May 2024.\n",
            "Please modify downstream libraries to take dependencies from other repositories in our TensorFlow community (e.g. Keras, Keras-CV, and Keras-NLP). \n",
            "\n",
            "For more information see: https://github.com/tensorflow/addons/issues/2807 \n",
            "\n",
            "  warnings.warn(\n"
          ]
        },
        {
          "output_type": "stream",
          "name": "stdout",
          "text": [
            "Mounted at /content/gdrive\n"
          ]
        }
      ],
      "source": [
        "import tensorflow as tf\n",
        "import numpy as np\n",
        "import pandas as pd\n",
        "import matplotlib.pyplot as plt\n",
        "import seaborn as sns\n",
        "import tensorflow_addons as tfa\n",
        "import warnings\n",
        "import sklearn\n",
        "\n",
        "from tensorflow import keras\n",
        "from tensorflow.keras import layers\n",
        "from sklearn.model_selection import train_test_split\n",
        "from sklearn.linear_model import LogisticRegression\n",
        "from sklearn.preprocessing import MinMaxScaler, Normalizer, KBinsDiscretizer\n",
        "from sklearn import metrics\n",
        "import datetime\n",
        "import time\n",
        "\n",
        "from google.colab import drive\n",
        "drive.mount('/content/gdrive')\n"
      ]
    },
    {
      "cell_type": "markdown",
      "source": [
        "# **Import Data and Process**\n",
        "\n",
        "All data was retrieved from RBPDB and is in the form os a csv file. For ease, to use in this notebook, the import will occur from Google Drive. "
      ],
      "metadata": {
        "id": "07KQjvM4-kHA"
      }
    },
    {
      "cell_type": "code",
      "source": [
        "dataset_path = \"/content/gdrive/My Drive/RBP_PrePData.csv\"\n",
        "df_preprocess = pd.read_csv(dataset_path)\n",
        "df = df_preprocess[df_preprocess[\"Qc\"]!=1]\n",
        "df.head()"
      ],
      "metadata": {
        "id": "2chOPPbp-27J",
        "colab": {
          "base_uri": "https://localhost:8080/",
          "height": 206
        },
        "outputId": "84475fac-2847-4c66-a566-8a17a85e9e5f"
      },
      "execution_count": 3,
      "outputs": [
        {
          "output_type": "execute_result",
          "data": {
            "text/plain": [
              "                      Sequence                    Structure   MFE         K  \\\n",
              "0  GGAUCCAUUCAAAAAAAGAACGGAUCC  ((((((.(((.......))).)))))) -10.5  4.971544   \n",
              "1  GGAUCCAUUCAAAAAACGAACGGAUCC  ((((((.(((.......))).)))))) -10.5  4.514383   \n",
              "2  GGAUCCAUUCAAAAAAGGAACGGAUCC  ((((((.(((.......))).)))))) -10.4  3.609146   \n",
              "3  GGAUCCAUUCAAAAAAUGAACGGAUCC  ((((((.((((.....)))).)))))) -11.7  6.607685   \n",
              "4  GGAUCCAUUCAAAAACAGAACGGAUCC  ((((((.(((.......))).)))))) -10.5  3.221327   \n",
              "\n",
              "         KA       RKA  Qc sevenMer  \n",
              "0  0.201145  0.395847   0  AAAAAAA  \n",
              "1  0.221514  0.435934   0  AAAAAAC  \n",
              "2  0.277074  0.545273   0  AAAAAAG  \n",
              "3  0.151339  0.297831   0  AAAAAAU  \n",
              "4  0.310431  0.610919   0  AAAAACA  "
            ],
            "text/html": [
              "\n",
              "  <div id=\"df-df56390b-2e32-4cfe-ab73-296375265f8d\">\n",
              "    <div class=\"colab-df-container\">\n",
              "      <div>\n",
              "<style scoped>\n",
              "    .dataframe tbody tr th:only-of-type {\n",
              "        vertical-align: middle;\n",
              "    }\n",
              "\n",
              "    .dataframe tbody tr th {\n",
              "        vertical-align: top;\n",
              "    }\n",
              "\n",
              "    .dataframe thead th {\n",
              "        text-align: right;\n",
              "    }\n",
              "</style>\n",
              "<table border=\"1\" class=\"dataframe\">\n",
              "  <thead>\n",
              "    <tr style=\"text-align: right;\">\n",
              "      <th></th>\n",
              "      <th>Sequence</th>\n",
              "      <th>Structure</th>\n",
              "      <th>MFE</th>\n",
              "      <th>K</th>\n",
              "      <th>KA</th>\n",
              "      <th>RKA</th>\n",
              "      <th>Qc</th>\n",
              "      <th>sevenMer</th>\n",
              "    </tr>\n",
              "  </thead>\n",
              "  <tbody>\n",
              "    <tr>\n",
              "      <th>0</th>\n",
              "      <td>GGAUCCAUUCAAAAAAAGAACGGAUCC</td>\n",
              "      <td>((((((.(((.......))).))))))</td>\n",
              "      <td>-10.5</td>\n",
              "      <td>4.971544</td>\n",
              "      <td>0.201145</td>\n",
              "      <td>0.395847</td>\n",
              "      <td>0</td>\n",
              "      <td>AAAAAAA</td>\n",
              "    </tr>\n",
              "    <tr>\n",
              "      <th>1</th>\n",
              "      <td>GGAUCCAUUCAAAAAACGAACGGAUCC</td>\n",
              "      <td>((((((.(((.......))).))))))</td>\n",
              "      <td>-10.5</td>\n",
              "      <td>4.514383</td>\n",
              "      <td>0.221514</td>\n",
              "      <td>0.435934</td>\n",
              "      <td>0</td>\n",
              "      <td>AAAAAAC</td>\n",
              "    </tr>\n",
              "    <tr>\n",
              "      <th>2</th>\n",
              "      <td>GGAUCCAUUCAAAAAAGGAACGGAUCC</td>\n",
              "      <td>((((((.(((.......))).))))))</td>\n",
              "      <td>-10.4</td>\n",
              "      <td>3.609146</td>\n",
              "      <td>0.277074</td>\n",
              "      <td>0.545273</td>\n",
              "      <td>0</td>\n",
              "      <td>AAAAAAG</td>\n",
              "    </tr>\n",
              "    <tr>\n",
              "      <th>3</th>\n",
              "      <td>GGAUCCAUUCAAAAAAUGAACGGAUCC</td>\n",
              "      <td>((((((.((((.....)))).))))))</td>\n",
              "      <td>-11.7</td>\n",
              "      <td>6.607685</td>\n",
              "      <td>0.151339</td>\n",
              "      <td>0.297831</td>\n",
              "      <td>0</td>\n",
              "      <td>AAAAAAU</td>\n",
              "    </tr>\n",
              "    <tr>\n",
              "      <th>4</th>\n",
              "      <td>GGAUCCAUUCAAAAACAGAACGGAUCC</td>\n",
              "      <td>((((((.(((.......))).))))))</td>\n",
              "      <td>-10.5</td>\n",
              "      <td>3.221327</td>\n",
              "      <td>0.310431</td>\n",
              "      <td>0.610919</td>\n",
              "      <td>0</td>\n",
              "      <td>AAAAACA</td>\n",
              "    </tr>\n",
              "  </tbody>\n",
              "</table>\n",
              "</div>\n",
              "      <button class=\"colab-df-convert\" onclick=\"convertToInteractive('df-df56390b-2e32-4cfe-ab73-296375265f8d')\"\n",
              "              title=\"Convert this dataframe to an interactive table.\"\n",
              "              style=\"display:none;\">\n",
              "        \n",
              "  <svg xmlns=\"http://www.w3.org/2000/svg\" height=\"24px\"viewBox=\"0 0 24 24\"\n",
              "       width=\"24px\">\n",
              "    <path d=\"M0 0h24v24H0V0z\" fill=\"none\"/>\n",
              "    <path d=\"M18.56 5.44l.94 2.06.94-2.06 2.06-.94-2.06-.94-.94-2.06-.94 2.06-2.06.94zm-11 1L8.5 8.5l.94-2.06 2.06-.94-2.06-.94L8.5 2.5l-.94 2.06-2.06.94zm10 10l.94 2.06.94-2.06 2.06-.94-2.06-.94-.94-2.06-.94 2.06-2.06.94z\"/><path d=\"M17.41 7.96l-1.37-1.37c-.4-.4-.92-.59-1.43-.59-.52 0-1.04.2-1.43.59L10.3 9.45l-7.72 7.72c-.78.78-.78 2.05 0 2.83L4 21.41c.39.39.9.59 1.41.59.51 0 1.02-.2 1.41-.59l7.78-7.78 2.81-2.81c.8-.78.8-2.07 0-2.86zM5.41 20L4 18.59l7.72-7.72 1.47 1.35L5.41 20z\"/>\n",
              "  </svg>\n",
              "      </button>\n",
              "      \n",
              "  <style>\n",
              "    .colab-df-container {\n",
              "      display:flex;\n",
              "      flex-wrap:wrap;\n",
              "      gap: 12px;\n",
              "    }\n",
              "\n",
              "    .colab-df-convert {\n",
              "      background-color: #E8F0FE;\n",
              "      border: none;\n",
              "      border-radius: 50%;\n",
              "      cursor: pointer;\n",
              "      display: none;\n",
              "      fill: #1967D2;\n",
              "      height: 32px;\n",
              "      padding: 0 0 0 0;\n",
              "      width: 32px;\n",
              "    }\n",
              "\n",
              "    .colab-df-convert:hover {\n",
              "      background-color: #E2EBFA;\n",
              "      box-shadow: 0px 1px 2px rgba(60, 64, 67, 0.3), 0px 1px 3px 1px rgba(60, 64, 67, 0.15);\n",
              "      fill: #174EA6;\n",
              "    }\n",
              "\n",
              "    [theme=dark] .colab-df-convert {\n",
              "      background-color: #3B4455;\n",
              "      fill: #D2E3FC;\n",
              "    }\n",
              "\n",
              "    [theme=dark] .colab-df-convert:hover {\n",
              "      background-color: #434B5C;\n",
              "      box-shadow: 0px 1px 3px 1px rgba(0, 0, 0, 0.15);\n",
              "      filter: drop-shadow(0px 1px 2px rgba(0, 0, 0, 0.3));\n",
              "      fill: #FFFFFF;\n",
              "    }\n",
              "  </style>\n",
              "\n",
              "      <script>\n",
              "        const buttonEl =\n",
              "          document.querySelector('#df-df56390b-2e32-4cfe-ab73-296375265f8d button.colab-df-convert');\n",
              "        buttonEl.style.display =\n",
              "          google.colab.kernel.accessAllowed ? 'block' : 'none';\n",
              "\n",
              "        async function convertToInteractive(key) {\n",
              "          const element = document.querySelector('#df-df56390b-2e32-4cfe-ab73-296375265f8d');\n",
              "          const dataTable =\n",
              "            await google.colab.kernel.invokeFunction('convertToInteractive',\n",
              "                                                     [key], {});\n",
              "          if (!dataTable) return;\n",
              "\n",
              "          const docLinkHtml = 'Like what you see? Visit the ' +\n",
              "            '<a target=\"_blank\" href=https://colab.research.google.com/notebooks/data_table.ipynb>data table notebook</a>'\n",
              "            + ' to learn more about interactive tables.';\n",
              "          element.innerHTML = '';\n",
              "          dataTable['output_type'] = 'display_data';\n",
              "          await google.colab.output.renderOutput(dataTable, element);\n",
              "          const docLink = document.createElement('div');\n",
              "          docLink.innerHTML = docLinkHtml;\n",
              "          element.appendChild(docLink);\n",
              "        }\n",
              "      </script>\n",
              "    </div>\n",
              "  </div>\n",
              "  "
            ]
          },
          "metadata": {},
          "execution_count": 3
        }
      ]
    },
    {
      "cell_type": "code",
      "source": [
        "#These are the hyperparameters that I decided to employ for the project. There is a large amount of variation when it comes to this and can be adjusted around for optimal model training and testing\n",
        "seq_length=7\n",
        "num_layers=1\n",
        "d_model=21\n",
        "num_heads=3\n",
        "dff=64\n",
        "\n",
        "\n",
        "def cutWord(x, window=1, length = seq_length):\n",
        "    seq2word = []\n",
        "    for i in range(length):\n",
        "        seq2word.append(x[i*window:i*window+window])\n",
        "    return \" \".join(seq2word)\n",
        "\n",
        "def RKA_bin(x):\n",
        "    if x >= 0.8:\n",
        "        return(1)\n",
        "    else:\n",
        "        return(0)\n",
        "\n",
        "def MFE_bin(x):\n",
        "    if x >= -14.:\n",
        "        return(1)\n",
        "    else:\n",
        "        return(0)"
      ],
      "metadata": {
        "id": "jaP-nLpQ_s0F"
      },
      "execution_count": 4,
      "outputs": []
    },
    {
      "cell_type": "markdown",
      "source": [
        "# **Sort and Seperate Data for Model**"
      ],
      "metadata": {
        "id": "7yBU-ojtAKr1"
      }
    },
    {
      "cell_type": "code",
      "source": [
        "scaler = MinMaxScaler()\n",
        "scaler.fit(df[[\"RKA\"]])\n",
        "df[\"RKA_norm\"] = scaler.transform(df[[\"RKA\"]])   #Actually may not need these two lines of code\n",
        "df[[\"RKA_logplus1\"]] = df[[\"RKA\"]].apply(lambda x: np.log(1+x))\n",
        "df[\"RKA_level\"] = df.RKA.apply(RKA_bin)\n",
        "df[\"MFE_level\"] = df.RKA.apply(RKA_bin)\n",
        "target = df[[\"MFE_level\",\"RKA_level\"]].copy()\n",
        "sequences = df[[\"sevenMer\"]].copy()\n",
        "seq_spaced = sequences.applymap(cutWord)\n",
        "\n",
        "vectorize_layer = tf.keras.layers.TextVectorization(max_tokens=d_model, standardize='lower_and_strip_punctuation', split='whitespace', ngrams=None, output_mode='int')\n",
        "vectorize_layer.adapt(seq_spaced)\n",
        "\n",
        "#Test/Train data split\n",
        "X_train, X_test, y_train, y_test = train_test_split(seq_spaced, df[\"RKA_logplus1\"], test_size=0.33, random_state=42)\n",
        "all_vec_seq = vectorize_layer(seq_spaced)\n",
        "all_vec_seq = tf.data.Dataset.from_tensor_slices(all_vec_seq)\n",
        "target_database = tf.data.Dataset.from_tensor_slices(df[\"RKA_logplus1\"])\n",
        "x_test_database = vectorize_layer(X_test)\n",
        "x_test_database = tf.data.Dataset.from_tensor_slices(x_test_database)\n",
        "y_test_database = tf.data.Dataset.from_tensor_slices(y_test)"
      ],
      "metadata": {
        "colab": {
          "base_uri": "https://localhost:8080/"
        },
        "id": "RzJWx1GaAf8g",
        "outputId": "714f9841-b7e6-4f55-8c71-482993e56333"
      },
      "execution_count": 9,
      "outputs": [
        {
          "output_type": "stream",
          "name": "stderr",
          "text": [
            "<ipython-input-9-5c279c017635>:3: SettingWithCopyWarning: \n",
            "A value is trying to be set on a copy of a slice from a DataFrame.\n",
            "Try using .loc[row_indexer,col_indexer] = value instead\n",
            "\n",
            "See the caveats in the documentation: https://pandas.pydata.org/pandas-docs/stable/user_guide/indexing.html#returning-a-view-versus-a-copy\n",
            "  df[\"RKA_norm\"] = scaler.transform(df[[\"RKA\"]])   #Actually may not need these two lines of code\n",
            "<ipython-input-9-5c279c017635>:4: SettingWithCopyWarning: \n",
            "A value is trying to be set on a copy of a slice from a DataFrame.\n",
            "Try using .loc[row_indexer,col_indexer] = value instead\n",
            "\n",
            "See the caveats in the documentation: https://pandas.pydata.org/pandas-docs/stable/user_guide/indexing.html#returning-a-view-versus-a-copy\n",
            "  df[[\"RKA_logplus1\"]] = df[[\"RKA\"]].apply(lambda x: np.log(1+x))\n",
            "<ipython-input-9-5c279c017635>:5: SettingWithCopyWarning: \n",
            "A value is trying to be set on a copy of a slice from a DataFrame.\n",
            "Try using .loc[row_indexer,col_indexer] = value instead\n",
            "\n",
            "See the caveats in the documentation: https://pandas.pydata.org/pandas-docs/stable/user_guide/indexing.html#returning-a-view-versus-a-copy\n",
            "  df[\"RKA_level\"] = df.RKA.apply(RKA_bin)\n",
            "<ipython-input-9-5c279c017635>:6: SettingWithCopyWarning: \n",
            "A value is trying to be set on a copy of a slice from a DataFrame.\n",
            "Try using .loc[row_indexer,col_indexer] = value instead\n",
            "\n",
            "See the caveats in the documentation: https://pandas.pydata.org/pandas-docs/stable/user_guide/indexing.html#returning-a-view-versus-a-copy\n",
            "  df[\"MFE_level\"] = df.RKA.apply(RKA_bin)\n"
          ]
        }
      ]
    },
    {
      "cell_type": "code",
      "source": [
        "train_set = tf.data.Dataset.zip((all_vec_seq, target_database))\n",
        "test_dataset = tf.data.Dataset.zip((x_test_database, y_test_database))\n",
        "real_train_set = train_set.batch(50).shuffle(50)\n",
        "test_dataset = test_dataset.batch(50)\n",
        "\n",
        "#train_set = tf.data.Dataset.zip((seq_database, target_database)) \n",
        "#Need to try this out if the data processing pipeline changes "
      ],
      "metadata": {
        "id": "dEB2fXX7AiaT"
      },
      "execution_count": 10,
      "outputs": []
    },
    {
      "cell_type": "markdown",
      "source": [
        "# **Encoder of Transformer Model**"
      ],
      "metadata": {
        "id": "PaNYsDofAlQY"
      }
    },
    {
      "cell_type": "code",
      "source": [
        "def scaled_dot_product_attention(q, k, v, mask=None):\n",
        "    matmul_qk = tf.matmul(q, k, transpose_b=True) \n",
        "    dk = tf.cast(tf.shape(k)[-1], tf.float32)\n",
        "    scaled_attention_logits = matmul_qk / tf.math.sqrt(dk)\n",
        "\n",
        "    # add the mask to the scaled tensor.\n",
        "    if mask is not None:\n",
        "        scaled_attention_logits += (mask * -1e9)\n",
        "\n",
        "    attention_weights = tf.nn.softmax(scaled_attention_logits, axis=-1)  \n",
        "\n",
        "    \n",
        "    output = tf.matmul(attention_weights, v)  \n",
        "\n",
        "    return output, attention_weights, matmul_qk\n",
        "\n",
        "          #Layer for the encoder layer. This arcitechture is based off transformer and encoder model specified in another paper. \n",
        "class MultiHeadAttention(tf.keras.layers.Layer):\n",
        "    def __init__(self, d_model, num_heads):\n",
        "        super(MultiHeadAttention, self).__init__()\n",
        "        self.num_heads = num_heads\n",
        "        self.d_model = d_model\n",
        "        assert d_model % self.num_heads == 0\n",
        "        self.depth = d_model // self.num_heads\n",
        "        self.wq = tf.keras.layers.Dense(d_model)\n",
        "        self.wk = tf.keras.layers.Dense(d_model)\n",
        "        self.wv = tf.keras.layers.Dense(d_model)\n",
        "\n",
        "        self.dense = tf.keras.layers.Dense(d_model)\n",
        "    \n",
        "    def split_heads(self, x, batch_size):\n",
        "        x = tf.reshape(x, (batch_size, -1, self.num_heads, self.depth)) \n",
        "        return tf.transpose(x, perm=[0, 2, 1, 3]) #(batch_size, num_heads, seq_len, depth)\n",
        "\n",
        "    def call(self, v, k, q, mask):\n",
        "        batch_size = tf.shape(q)[0]\n",
        "        q = self.wq(q)  # (batch_size, seq_len, d_model)\n",
        "        k = self.wk(k)  \n",
        "        v = self.wv(v)  \n",
        "\n",
        "        q = self.split_heads(q, batch_size)  # (batch_size, num_heads, seq_len_q, depth)\n",
        "        k = self.split_heads(k, batch_size)  \n",
        "        v = self.split_heads(v, batch_size)  \n",
        "        scaled_attention, attention_weights, matmul_qk= scaled_dot_product_attention(\n",
        "            q, k, v, mask)\n",
        "\n",
        "        scaled_attention = tf.transpose(scaled_attention, perm=[0, 2, 1, 3])  # (batch_size, seq_len_q, num_heads, depth)\n",
        "\n",
        "        concat_attention = tf.reshape(scaled_attention,\n",
        "                                  (batch_size, -1, self.d_model))  # (batch_size, seq_len_q, d_model)\n",
        "        output = self.dense(concat_attention)  # (batch_size, seq_len_q, d_model)\n",
        "\n",
        "        return output, attention_weights, matmul_qk"
      ],
      "metadata": {
        "id": "042dFSzUAqtA"
      },
      "execution_count": 11,
      "outputs": []
    },
    {
      "cell_type": "code",
      "source": [
        "def point_wise_feed_forward_network(d_model, dff):\n",
        "    return tf.keras.Sequential([\n",
        "        tf.keras.layers.Dense(dff, activation='relu'),  # (batch_size, seq_len, dff)\n",
        "        tf.keras.layers.Dense(d_model)  # (batch_size, seq_len, d_model)\n",
        "        ])\n",
        "        \n",
        "class EncoderLayer(tf.keras.layers.Layer):\n",
        "    def __init__(self, d_model, num_heads, dff, rate=0.1):\n",
        "        super(EncoderLayer, self).__init__()\n",
        "\n",
        "        #define layers\n",
        "        self.mha = MultiHeadAttention(d_model, num_heads)\n",
        "        self.ffn = point_wise_feed_forward_network(d_model, dff)\n",
        "\n",
        "        self.layernorm1 = tf.keras.layers.LayerNormalization(epsilon=1e-6)\n",
        "        self.layernorm2 = tf.keras.layers.LayerNormalization(epsilon=1e-6)\n",
        "\n",
        "        self.dropout1 = tf.keras.layers.Dropout(rate)\n",
        "        self.dropout2 = tf.keras.layers.Dropout(rate)\n",
        "\n",
        "    def call(self, x, training, mask=None):\n",
        "\n",
        "        attn_output, attn_weight, matmul_qk = self.mha(x, x, x, mask)  # (batch_size, input_seq_len, d_model)\n",
        "        attn_output = self.dropout1(attn_output, training=training)\n",
        "        out1 = self.layernorm1(x + attn_output)  # (batch_size, input_seq_len, d_model)\n",
        "\n",
        "        ffn_output = self.ffn(out1)  # (batch_size, input_seq_len, d_model)\n",
        "        ffn_output = self.dropout2(ffn_output, training=training)\n",
        "        out2 = self.layernorm2(out1 + ffn_output)  # (batch_size, input_seq_len, d_model)\n",
        "\n",
        "        return out2, attn_weight, matmul_qk"
      ],
      "metadata": {
        "id": "DLYIj15yA3oI"
      },
      "execution_count": 12,
      "outputs": []
    },
    {
      "cell_type": "code",
      "source": [
        "def get_angles(pos, i, d_model):\n",
        "    angle_rate = 1/np.power(10000, (2*(i/2))/np.float32(d_model))\n",
        "    return pos*angle_rate\n",
        "\n",
        "def positional_encoding(position, d_model):\n",
        "    angle_rads = get_angles(np.arange(position)[:, np.newaxis],\n",
        "                            np.arange(d_model)[np.newaxis, :]\n",
        "                            ,d_model)\n",
        "    angle_rads[:, 0::2] = np.sin(angle_rads[:, 0::2])\n",
        "    angle_rads[:, 1::2] = np.cos(angle_rads[:, 1::2])\n",
        "    pos_encoding = angle_rads[np.newaxis, ...]\n",
        "    return tf.cast(pos_encoding, dtype=tf.float32)\n",
        "\n",
        "positional_encoding(1, 9) #test\n"
      ],
      "metadata": {
        "colab": {
          "base_uri": "https://localhost:8080/"
        },
        "id": "43_n9doPA6ty",
        "outputId": "17d49431-3d72-475f-d8e0-aea7213e9b4e"
      },
      "execution_count": 13,
      "outputs": [
        {
          "output_type": "execute_result",
          "data": {
            "text/plain": [
              "<tf.Tensor: shape=(1, 1, 9), dtype=float32, numpy=array([[[0., 1., 0., 1., 0., 1., 0., 1., 0.]]], dtype=float32)>"
            ]
          },
          "metadata": {},
          "execution_count": 13
        }
      ]
    },
    {
      "cell_type": "markdown",
      "source": [
        "# **Encoder**"
      ],
      "metadata": {
        "id": "_bjl6d-iBE0F"
      }
    },
    {
      "cell_type": "code",
      "source": [
        "class Encoder(tf.keras.layers.Layer):\n",
        "    def __init__(self, num_layers, d_model, num_heads, dff, input_vocab_size,\n",
        "                 maximum_position_encoding, rate=0.1):\n",
        "        super(Encoder, self).__init__()\n",
        "        self.d_model = d_model\n",
        "        self.num_layers = num_layers #for the encoder(specified elsewhere)\n",
        "        self.embedding = tf.keras.layers.Embedding(input_vocab_size, d_model)\n",
        "        self.pos_encoding = positional_encoding(maximum_position_encoding, d_model)\n",
        "        self.enc_layers = [EncoderLayer(d_model, num_heads, dff, rate) for _ in range(num_layers)]\n",
        "        self.dropout = tf.keras.layers.Dropout(rate)\n",
        "        self.attention_weights = {}\n",
        "        self.matmul_qks = {}\n",
        "        \n",
        "    def call(self, x, training, mask=None):\n",
        "        #attention_weights = {}\n",
        "        #encoding and position encoding\n",
        "        seq_len = tf.shape(x)[1]\n",
        "        x = self.embedding(x) # (batch_size, input_seq_len, d_model)\n",
        "        x *= tf.math.sqrt(tf.cast(self.d_model, tf.float32))\n",
        "        \n",
        "        \n",
        "        x += self.pos_encoding[:, :seq_len, :]\n",
        "\n",
        "        x = self.dropout(x, training=training)\n",
        "\n",
        "        for i in range(self.num_layers):\n",
        "            x, block, matmul_qk = self.enc_layers[i](x, training, mask)\n",
        "            self.attention_weights[f'attentions_{i+1}'] = block\n",
        "            self.matmul_qks[f'matmul_qk_{i+1}'] = matmul_qk\n",
        "            \n",
        "        return x, block # (batch_size, input_seq_len, d_model)\n",
        "    \n",
        "    def get_attention(self):\n",
        "        return self.attention_weights\n",
        "    def get_matmul_qks(self):\n",
        "        return self.matmul_qks"
      ],
      "metadata": {
        "id": "qbJVhx_lA9Lk"
      },
      "execution_count": 14,
      "outputs": []
    },
    {
      "cell_type": "code",
      "source": [
        "#We can run this block of code to test whether or not the encoder that we built above is functioning correctly\n",
        "\n",
        "sample_encoder = Encoder(num_layers=2, d_model=5, num_heads=1,\n",
        "                         dff=dff, input_vocab_size=10,\n",
        "                         maximum_position_encoding=24)\n",
        "temp_input = vectorize_layer(seq_spaced)\n",
        "sample_encoder_output = sample_encoder(temp_input[22:29], training=False, mask=None)\n",
        "sample_encoder_output[0].shape"
      ],
      "metadata": {
        "colab": {
          "base_uri": "https://localhost:8080/"
        },
        "id": "b65uerKaBRVb",
        "outputId": "3489e9fc-b6bd-4834-848a-3d6a772f4ab4"
      },
      "execution_count": 15,
      "outputs": [
        {
          "output_type": "execute_result",
          "data": {
            "text/plain": [
              "TensorShape([7, 7, 5])"
            ]
          },
          "metadata": {},
          "execution_count": 15
        }
      ]
    },
    {
      "cell_type": "markdown",
      "source": [
        "# **Model Development**"
      ],
      "metadata": {
        "id": "zYQzLSrVBejB"
      }
    },
    {
      "cell_type": "code",
      "source": [
        "def create_model(seq_length, num_layers, d_model, num_heads, dff, input_vocab_size, maximum_position_encoding, rate=0.1):\n",
        "    input = tf.keras.Input(shape=(seq_length,))\n",
        "    x , aws= Encoder(num_layers, d_model, num_heads, dff,\n",
        "                input_vocab_size, maximum_position_encoding, rate=0.1)(input)\n",
        "    x = tf.keras.layers.Reshape((seq_length*d_model,))(x)\n",
        "    x = tf.keras.layers.Dense(seq_length, activation='relu')(x)\n",
        "    x = tf.keras.layers.Dense(1)(x)\n",
        "    output = tf.squeeze(x)\n",
        "    \n",
        "    return tf.keras.Model(inputs=input, outputs=output)\n"
      ],
      "metadata": {
        "id": "XAoxG6sjBhoI"
      },
      "execution_count": 16,
      "outputs": []
    },
    {
      "cell_type": "code",
      "source": [
        "model = create_model(seq_length=seq_length, num_layers= num_layers, d_model=d_model, num_heads=num_heads,\n",
        "                         dff=dff, input_vocab_size=10,\n",
        "                         maximum_position_encoding=7)\n",
        "p = vectorize_layer(seq_spaced.iloc[17])\n",
        "model(p)"
      ],
      "metadata": {
        "colab": {
          "base_uri": "https://localhost:8080/"
        },
        "id": "d3VNvLvwBlI7",
        "outputId": "57b2c9c7-a753-401e-ef36-2b269d066fd0"
      },
      "execution_count": 17,
      "outputs": [
        {
          "output_type": "execute_result",
          "data": {
            "text/plain": [
              "<tf.Tensor: shape=(), dtype=float32, numpy=2.1598747>"
            ]
          },
          "metadata": {},
          "execution_count": 17
        }
      ]
    },
    {
      "cell_type": "code",
      "source": [
        "model.summary() #display the model specifications"
      ],
      "metadata": {
        "colab": {
          "base_uri": "https://localhost:8080/"
        },
        "id": "PD1qC94tBuvh",
        "outputId": "71f707b5-53ce-4b50-ebce-8325a072e0cf"
      },
      "execution_count": 18,
      "outputs": [
        {
          "output_type": "stream",
          "name": "stdout",
          "text": [
            "Model: \"model\"\n",
            "_________________________________________________________________\n",
            " Layer (type)                Output Shape              Param #   \n",
            "=================================================================\n",
            " input_1 (InputLayer)        [(None, 7)]               0         \n",
            "                                                                 \n",
            " encoder_1 (Encoder)         ((None, 7, 21),           4915      \n",
            "                              (None, 3, None, None))             \n",
            "                                                                 \n",
            " reshape (Reshape)           (None, 147)               0         \n",
            "                                                                 \n",
            " dense_18 (Dense)            (None, 7)                 1036      \n",
            "                                                                 \n",
            " dense_19 (Dense)            (None, 1)                 8         \n",
            "                                                                 \n",
            " tf.compat.v1.squeeze (TFOpL  None                     0         \n",
            " ambda)                                                          \n",
            "                                                                 \n",
            "=================================================================\n",
            "Total params: 5,959\n",
            "Trainable params: 5,959\n",
            "Non-trainable params: 0\n",
            "_________________________________________________________________\n"
          ]
        }
      ]
    },
    {
      "cell_type": "code",
      "source": [
        "#Test to check if transformer functioned properly or not. \n",
        "for i in real_train_set.take(1):\n",
        "    q = model(i[0])\n",
        "att = model.layers[1].get_attention()['attentions_1']\n",
        "qk = model.layers[1].get_matmul_qks()['matmul_qk_1']\n"
      ],
      "metadata": {
        "id": "OeBIcr5KBx4f"
      },
      "execution_count": 19,
      "outputs": []
    },
    {
      "cell_type": "markdown",
      "source": [
        "# **Model Params**"
      ],
      "metadata": {
        "id": "9KYqCoB2B_uu"
      }
    },
    {
      "cell_type": "code",
      "source": [
        "              '''\n",
        "Accuracy function, loss function, and scheduling\n",
        "              '''   \n",
        "\n",
        "#Can also omit but from the model arcitechture that I wanted to implement, this seemed to work better \n",
        "class CustomSchedule(tf.keras.optimizers.schedules.LearningRateSchedule):\n",
        "    def __init__(self, d_model, warmup_steps=4000):\n",
        "        super(CustomSchedule, self).__init__()\n",
        "        self.d_model = d_model\n",
        "        self.d_model = tf.cast(self.d_model, tf.float32)\n",
        "        self.warmup_steps = warmup_steps\n",
        "    \n",
        "    def __call__(self, step):\n",
        "        step = tf.cast(step, tf.float32)\n",
        "        arg1 = tf.math.rsqrt(step)\n",
        "        arg2 = step * (self.warmup_steps ** -1.5)\n",
        "        return tf.math.rsqrt(self.d_model) * tf.math.minimum(arg1, arg2)\n",
        "\n",
        "learning_rate = CustomSchedule(d_model)\n",
        "\n",
        "optimizer = tf.keras.optimizers.Adam(learning_rate, beta_1=0.9, beta_2=0.98,\n",
        "                                     epsilon=1e-9)\n",
        "\n",
        "\n",
        "\n",
        "loss_object = loss=tf.keras.losses.MeanAbsoluteError() #Some experimentation was done with this to achieve better loss\n",
        "\n",
        "def loss_function(real, pred):\n",
        "    loss_ = loss_object(real, pred)\n",
        "    return tf.reduce_sum(loss_)\n",
        "\n",
        "def accuracy_function(real, pred):\n",
        "    accuracies = loss_object(real, pred)\n",
        "    return tf.reduce_sum(accuracies)\n",
        "\n",
        "train_metric = tfa.metrics.r_square.RSquare()\n",
        "test_metric = tfa.metrics.r_square.RSquare()\n",
        "\n",
        "train_loss = tf.keras.metrics.Mean(name='train_loss')\n",
        "test_loss = tf.keras.metrics.Mean(name='test_loss')\n",
        "train_accuracy = tf.keras.metrics.Mean(name='train_accuracy')\n",
        "test_accuracy = tf.keras.metrics.Mean(name='test_accuracy')"
      ],
      "metadata": {
        "id": "Y6EoL3xMCCak"
      },
      "execution_count": 20,
      "outputs": []
    },
    {
      "cell_type": "code",
      "source": [
        "'''\n",
        "More of a trial feature that I tested for the project. Don't need to implement, but then need to change out some of the model training code. \n",
        "'''\n",
        "\n",
        "\n",
        "checkpoint_path = \"./checkpoints_64_21_pos/new\"\n",
        "\n",
        "ckpt = tf.train.Checkpoint(transformer=model,\n",
        "                           optimizer=optimizer)\n",
        "\n",
        "ckpt_manager = tf.train.CheckpointManager(ckpt, checkpoint_path, max_to_keep=5)\n",
        "\n",
        "\n",
        "if ckpt_manager.latest_checkpoint:\n",
        "  ckpt.restore(ckpt_manager.latest_checkpoint)\n",
        "  print('Latest checkpoint restored!!')"
      ],
      "metadata": {
        "id": "SvWIN0fnCGB1"
      },
      "execution_count": 21,
      "outputs": []
    },
    {
      "cell_type": "code",
      "source": [
        "def train_step(inp, tar):\n",
        "\n",
        "    target = tar\n",
        "\n",
        "    with tf.GradientTape() as tape:\n",
        "        predictions = model(inp, training = True)\n",
        "        loss = loss_function(target, predictions)\n",
        "\n",
        "    gradients = tape.gradient(loss, model.trainable_variables)\n",
        "    optimizer.apply_gradients(zip(gradients, model.trainable_variables))\n",
        "    \n",
        "    train_loss(loss)\n",
        "\n",
        "    train_metric.update_state(target, predictions)\n",
        " \n",
        "    \n",
        "def test_step(model, inp, tar):\n",
        "    target = tar\n",
        "    predictions = model(inp)\n",
        "    testloss = loss_function(tar, predictions)\n",
        "    test_loss(testloss)\n",
        "    test_metric.update_state(target, predictions)\n",
        "\n",
        "current_time = datetime.datetime.now().strftime(\"%Y%m%d-%H%M%S\")\n",
        "train_log_dir = 'logs/gradient_tape/' + current_time + '/train'\n",
        "test_log_dir = 'logs/gradient_tape/' + current_time + '/test'\n",
        "train_summary_writer = tf.summary.create_file_writer(train_log_dir)\n",
        "test_summary_writer = tf.summary.create_file_writer(test_log_dir)"
      ],
      "metadata": {
        "id": "ObYauOqoCb1H"
      },
      "execution_count": 22,
      "outputs": []
    },
    {
      "cell_type": "markdown",
      "source": [
        "# **Model Training**"
      ],
      "metadata": {
        "id": "VHhr4DdfCiEJ"
      }
    },
    {
      "cell_type": "code",
      "source": [
        "EPOCHS=20\n",
        "\n",
        "for epoch in range(EPOCHS):\n",
        "  start = time.time()\n",
        "\n",
        "  train_loss.reset_states()\n",
        "  train_accuracy.reset_states()\n",
        "\n",
        "\n",
        "  for (batch, (inp, tar)) in enumerate(real_train_set):\n",
        "    train_step(inp, tar)\n",
        "    if batch % 300 == 0:\n",
        "      print(f'Epoch {epoch + 1} Batch {batch} Loss {train_loss.result():.4f} Accuracy {train_metric.result():.4f}')\n",
        "\n",
        "  with train_summary_writer.as_default():\n",
        "    tf.summary.scalar('loss', train_loss.result(), step=epoch)\n",
        "    tf.summary.scalar('accuracy', train_metric.result(), step=epoch)\n",
        "\n",
        "  for (batch, (inp, tar)) in enumerate(test_dataset):\n",
        "    test_step(model, inp, tar)\n",
        "\n",
        "  with test_summary_writer.as_default():\n",
        "    tf.summary.scalar('accuracy', test_metric.result(), step=epoch)\n",
        "\n",
        "  template = 'Epoch {}, Loss: {}, Test Loss: {}, Test R^2: {}'\n",
        "  print (template.format(epoch+1,\n",
        "                         train_loss.result(),\n",
        "                         test_loss.result(),\n",
        "                         test_metric.result()\n",
        "                         ))\n",
        "  \n",
        " \n",
        "#Display all metrics for the training process\n",
        "  if (epoch + 1) % 5 == 0:\n",
        "    ckpt_save_path = ckpt_manager.save()\n",
        "    print(f'Saving checkpoint for epoch {epoch+1} at {ckpt_save_path}')\n",
        "    print(f'Epoch {epoch + 1} Loss {train_loss.result():.4f} Accuracy {train_metric.result():.4f}')\n",
        "    print(f'Time taken for 1 epoch: {time.time() - start:.2f} secs\\n')"
      ],
      "metadata": {
        "colab": {
          "base_uri": "https://localhost:8080/"
        },
        "id": "qR3GE9nbCkm2",
        "outputId": "535780d7-e20c-4136-99e3-fc8b4fcacf2c"
      },
      "execution_count": 23,
      "outputs": [
        {
          "output_type": "stream",
          "name": "stderr",
          "text": [
            "WARNING:tensorflow:5 out of the last 5 calls to <function _BaseOptimizer._update_step_xla at 0x7f1c781953f0> triggered tf.function retracing. Tracing is expensive and the excessive number of tracings could be due to (1) creating @tf.function repeatedly in a loop, (2) passing tensors with different shapes, (3) passing Python objects instead of tensors. For (1), please define your @tf.function outside of the loop. For (2), @tf.function has reduce_retracing=True option that can avoid unnecessary retracing. For (3), please refer to https://www.tensorflow.org/guide/function#controlling_retracing and https://www.tensorflow.org/api_docs/python/tf/function for  more details.\n",
            "WARNING:tensorflow:6 out of the last 6 calls to <function _BaseOptimizer._update_step_xla at 0x7f1c781953f0> triggered tf.function retracing. Tracing is expensive and the excessive number of tracings could be due to (1) creating @tf.function repeatedly in a loop, (2) passing tensors with different shapes, (3) passing Python objects instead of tensors. For (1), please define your @tf.function outside of the loop. For (2), @tf.function has reduce_retracing=True option that can avoid unnecessary retracing. For (3), please refer to https://www.tensorflow.org/guide/function#controlling_retracing and https://www.tensorflow.org/api_docs/python/tf/function for  more details.\n"
          ]
        },
        {
          "output_type": "stream",
          "name": "stdout",
          "text": [
            "Epoch 1 Batch 0 Loss 1.4759 Accuracy -144.4644\n",
            "Epoch 1 Batch 300 Loss 0.4760 Accuracy -24.8509\n",
            "Epoch 1, Loss: 0.4653012156486511, Test Loss: 0.10862556844949722, Test R^2: -0.07471930980682373\n",
            "Epoch 2 Batch 0 Loss 0.1476 Accuracy -24.1699\n",
            "Epoch 2 Batch 300 Loss 0.1121 Accuracy -12.3369\n",
            "Epoch 2, Loss: 0.11173705011606216, Test Loss: 0.10740073770284653, Test R^2: -0.07808434963226318\n",
            "Epoch 3 Batch 0 Loss 0.1337 Accuracy -12.1732\n",
            "Epoch 3 Batch 300 Loss 0.1049 Accuracy -8.1925\n",
            "Epoch 3, Loss: 0.1043611466884613, Test Loss: 0.10643475502729416, Test R^2: -0.06955718994140625\n",
            "Epoch 4 Batch 0 Loss 0.0896 Accuracy -8.1229\n",
            "Epoch 4 Batch 300 Loss 0.1004 Accuracy -6.1288\n",
            "Epoch 4, Loss: 0.10039154440164566, Test Loss: 0.10466882586479187, Test R^2: -0.030569911003112793\n",
            "Epoch 5 Batch 0 Loss 0.1522 Accuracy -6.0741\n",
            "Epoch 5 Batch 300 Loss 0.0983 Accuracy -4.8662\n",
            "Epoch 5, Loss: 0.09766421467065811, Test Loss: 0.10482049733400345, Test R^2: -0.039728760719299316\n",
            "Saving checkpoint for epoch 5 at ./checkpoints_64_21_pos/new/ckpt-1\n",
            "Epoch 5 Loss 0.0977 Accuracy -4.8434\n",
            "Time taken for 1 epoch: 26.89 secs\n",
            "\n",
            "Epoch 6 Batch 0 Loss 0.1186 Accuracy -4.8399\n",
            "Epoch 6 Batch 300 Loss 0.0959 Accuracy -4.0288\n",
            "Epoch 6, Loss: 0.09581466019153595, Test Loss: 0.10328902304172516, Test R^2: -0.0029851198196411133\n",
            "Epoch 7 Batch 0 Loss 0.0892 Accuracy -4.0106\n",
            "Epoch 7 Batch 300 Loss 0.0908 Accuracy -3.4213\n",
            "Epoch 7, Loss: 0.09069759398698807, Test Loss: 0.10224734246730804, Test R^2: 0.027465224266052246\n",
            "Epoch 8 Batch 0 Loss 0.0876 Accuracy -3.4063\n",
            "Epoch 8 Batch 300 Loss 0.0893 Accuracy -2.9578\n",
            "Epoch 8, Loss: 0.0888238400220871, Test Loss: 0.10060923546552658, Test R^2: 0.0578007698059082\n",
            "Epoch 9 Batch 0 Loss 0.0964 Accuracy -2.9489\n",
            "Epoch 9 Batch 300 Loss 0.0886 Accuracy -2.6027\n",
            "Epoch 9, Loss: 0.08847220242023468, Test Loss: 0.09925762563943863, Test R^2: 0.08120566606521606\n",
            "Epoch 10 Batch 0 Loss 0.0824 Accuracy -2.5934\n",
            "Epoch 10 Batch 300 Loss 0.0873 Accuracy -2.3138\n",
            "Epoch 10, Loss: 0.08713088929653168, Test Loss: 0.09808424860239029, Test R^2: 0.10479527711868286\n",
            "Saving checkpoint for epoch 10 at ./checkpoints_64_21_pos/new/ckpt-2\n",
            "Epoch 10 Loss 0.0871 Accuracy -2.3071\n",
            "Time taken for 1 epoch: 26.93 secs\n",
            "\n",
            "Epoch 11 Batch 0 Loss 0.1302 Accuracy -2.3054\n",
            "Epoch 11 Batch 300 Loss 0.0881 Accuracy -2.0786\n",
            "Epoch 11, Loss: 0.08786728233098984, Test Loss: 0.09776032716035843, Test R^2: 0.10654115676879883\n",
            "Epoch 12 Batch 0 Loss 0.0753 Accuracy -2.0723\n",
            "Epoch 12 Batch 300 Loss 0.0866 Accuracy -1.8812\n",
            "Epoch 12, Loss: 0.0864643007516861, Test Loss: 0.09652470797300339, Test R^2: 0.1285538673400879\n",
            "Epoch 13 Batch 0 Loss 0.0925 Accuracy -1.8752\n",
            "Epoch 13 Batch 300 Loss 0.0845 Accuracy -1.7113\n",
            "Epoch 13, Loss: 0.08414258062839508, Test Loss: 0.09551715105772018, Test R^2: 0.1436179280281067\n",
            "Epoch 14 Batch 0 Loss 0.0779 Accuracy -1.7074\n",
            "Epoch 14 Batch 300 Loss 0.0848 Accuracy -1.5656\n",
            "Epoch 14, Loss: 0.08417519927024841, Test Loss: 0.09446600079536438, Test R^2: 0.1603977084159851\n",
            "Epoch 15 Batch 0 Loss 0.0851 Accuracy -1.5628\n",
            "Epoch 15 Batch 300 Loss 0.0822 Accuracy -1.4392\n",
            "Epoch 15, Loss: 0.08226562291383743, Test Loss: 0.09367009252309799, Test R^2: 0.17644625902175903\n",
            "Saving checkpoint for epoch 15 at ./checkpoints_64_21_pos/new/ckpt-3\n",
            "Epoch 15 Loss 0.0823 Accuracy -1.4361\n",
            "Time taken for 1 epoch: 26.59 secs\n",
            "\n",
            "Epoch 16 Batch 0 Loss 0.0653 Accuracy -1.4359\n",
            "Epoch 16 Batch 300 Loss 0.0807 Accuracy -1.3267\n",
            "Epoch 16, Loss: 0.08078974485397339, Test Loss: 0.09276288747787476, Test R^2: 0.1919078230857849\n",
            "Epoch 17 Batch 0 Loss 0.1158 Accuracy -1.3228\n",
            "Epoch 17 Batch 300 Loss 0.0794 Accuracy -1.2251\n",
            "Epoch 17, Loss: 0.07911873608827591, Test Loss: 0.09240183234214783, Test R^2: 0.1947925090789795\n",
            "Epoch 18 Batch 0 Loss 0.0836 Accuracy -1.2227\n",
            "Epoch 18 Batch 300 Loss 0.0790 Accuracy -1.1358\n",
            "Epoch 18, Loss: 0.07871120423078537, Test Loss: 0.09141462296247482, Test R^2: 0.20875751972198486\n",
            "Epoch 19 Batch 0 Loss 0.0558 Accuracy -1.1333\n",
            "Epoch 19 Batch 300 Loss 0.0771 Accuracy -1.0533\n",
            "Epoch 19, Loss: 0.07700511813163757, Test Loss: 0.09094879776239395, Test R^2: 0.21450966596603394\n",
            "Epoch 20 Batch 0 Loss 0.1177 Accuracy -1.0513\n",
            "Epoch 20 Batch 300 Loss 0.0761 Accuracy -0.9797\n",
            "Epoch 20, Loss: 0.07636181265115738, Test Loss: 0.09020484238862991, Test R^2: 0.22511029243469238\n",
            "Saving checkpoint for epoch 20 at ./checkpoints_64_21_pos/new/ckpt-4\n",
            "Epoch 20 Loss 0.0764 Accuracy -0.9776\n",
            "Time taken for 1 epoch: 24.90 secs\n",
            "\n"
          ]
        }
      ]
    },
    {
      "cell_type": "markdown",
      "source": [
        "# **Results visualized**"
      ],
      "metadata": {
        "id": "FMc9fCM_DPjD"
      }
    },
    {
      "cell_type": "code",
      "source": [
        "df[\"seq_spaced\"] = seq_spaced\n",
        "def visualize_attention(heads, labels, attention):\n",
        "    plt.rcParams[\"figure.figsize\"] = (20,5)\n",
        "    fig, axs = plt.subplots(1,heads)\n",
        "    plt.set_cmap('bwr')\n",
        "    for i in range(heads):\n",
        "        ax = axs[i]\n",
        "        cax = ax.matshow(attention[i])\n",
        "        ax.set_xticks(range(len(labels)))\n",
        "        ax.set_yticks(range(len(labels)))\n",
        "        #labels = [label for label in R.to_numpy()[0]]\n",
        "        ax.set_xticklabels(labels, rotation=90)\n",
        "        #labels = [label for label in R.to_numpy()[0]]\n",
        "        ax.set_yticklabels(labels)\n",
        "        print(f\"head{i}: {tf.reduce_max(attention[i])}\")\n",
        "        print(f\"head{i}: {tf.reduce_min(attention[i])}\")\n",
        "    cbar = fig.colorbar(cax)\n",
        "\n",
        "def plot_attention_head(sequence, attention, heads):\n",
        "    # The plot is of the attention when a token was generated.\n",
        "    # # The model didn't generate `<START>` in the output. Skip it.\n",
        "    labels = [label for label in sequence.to_numpy()[0]]\n",
        "    #translated_tokens = translated_tokens[1:]\n",
        "    #ax = plt.gca()\n",
        "    visualize_attention(heads = heads, labels=labels, attention=attention)"
      ],
      "metadata": {
        "colab": {
          "base_uri": "https://localhost:8080/"
        },
        "id": "7Ig0pzygDOVb",
        "outputId": "48a56fb2-4723-466f-a77d-c2ed5b83599e"
      },
      "execution_count": 24,
      "outputs": [
        {
          "output_type": "stream",
          "name": "stderr",
          "text": [
            "<ipython-input-24-088bbc391bc6>:1: SettingWithCopyWarning: \n",
            "A value is trying to be set on a copy of a slice from a DataFrame.\n",
            "Try using .loc[row_indexer,col_indexer] = value instead\n",
            "\n",
            "See the caveats in the documentation: https://pandas.pydata.org/pandas-docs/stable/user_guide/indexing.html#returning-a-view-versus-a-copy\n",
            "  df[\"seq_spaced\"] = seq_spaced\n"
          ]
        }
      ]
    },
    {
      "cell_type": "code",
      "source": [
        "#Creation of the attention-based matrix heatmap to demonstrate binding relationships\n",
        "\n",
        "seq = 'UAGUAGU'\n",
        "sequence_var = df[df.sevenMer == seq].seq_spaced\n",
        "prob_for_show = df[df.sevenMer == seq].RKA_logplus1\n",
        "p = vectorize_layer(sequence_var)\n",
        "result = model(p)\n",
        "att = model.layers[1].get_attention()['attentions_1'][0]\n",
        "R = sequence_var.str.split(\" \")\n",
        "\n",
        "plot_attention_head(R,att, num_heads)\n",
        "print('sequence: ', sequence_var.to_numpy())\n",
        "print(f'predicted: {result.numpy()}, real {prob_for_show}')"
      ],
      "metadata": {
        "colab": {
          "base_uri": "https://localhost:8080/",
          "height": 603
        },
        "id": "eaZHl7Q0DtKG",
        "outputId": "68e1a641-60a1-4b3f-c32c-3a26da3913c3"
      },
      "execution_count": 26,
      "outputs": [
        {
          "output_type": "stream",
          "name": "stdout",
          "text": [
            "head0: 0.8964747190475464\n",
            "head0: 0.00012278575741220266\n",
            "head1: 0.8133977651596069\n",
            "head1: 0.0001582197583047673\n",
            "head2: 0.9506511092185974\n",
            "head2: 2.3813170628272928e-05\n",
            "sequence:  ['U A G U A G U']\n",
            "predicted: 0.4521222710609436, real 13003    0.782336\n",
            "Name: RKA_logplus1, dtype: float64\n"
          ]
        },
        {
          "output_type": "display_data",
          "data": {
            "text/plain": [
              "<Figure size 2000x500 with 4 Axes>"
            ],
            "image/png": "[encoded data removed]"
          },
          "metadata": {}
        }
      ]
    },
    {
      "cell_type": "markdown",
      "source": [
        "Verify Results"
      ],
      "metadata": {
        "id": "B45dw2-kDygp"
      }
    },
    {
      "cell_type": "code",
      "source": [
        "result = model.predict(all_vec_seq.batch(100))\n",
        "result.shape\n",
        "\n",
        "\n",
        "\n",
        "plt.rcParams[\"figure.figsize\"] = (6,5)\n",
        "sns.scatterplot(x=np.log(1+df.RKA), y=np.log(np.exp(result)))"
      ],
      "metadata": {
        "colab": {
          "base_uri": "https://localhost:8080/",
          "height": 500
        },
        "id": "-x4ibkR5DvhY",
        "outputId": "deeecc96-68b2-47ce-9fcb-49a8f6b53141"
      },
      "execution_count": 27,
      "outputs": [
        {
          "output_type": "stream",
          "name": "stdout",
          "text": [
            "155/155 [==============================] - 1s 3ms/step\n"
          ]
        },
        {
          "output_type": "execute_result",
          "data": {
            "text/plain": [
              "<Axes: xlabel='RKA'>"
            ]
          },
          "metadata": {},
          "execution_count": 27
        },
        {
          "output_type": "display_data",
          "data": {
            "text/plain": [
              "<Figure size 600x500 with 1 Axes>"
            ],
            "image/png": "[encoded data removed]"
          },
          "metadata": {}
        }
      ]
    },
    {
      "cell_type": "code",
      "source": [
        "# Calculate R^2\n",
        "from sklearn.metrics import r2_score\n",
        "r2_score(np.log(1+df.RKA), result)\n"
      ],
      "metadata": {
        "colab": {
          "base_uri": "https://localhost:8080/"
        },
        "id": "SHxdeKrWEB2T",
        "outputId": "8725b613-a819-4cbd-b3d9-1defa51ec1c5"
      },
      "execution_count": 28,
      "outputs": [
        {
          "output_type": "execute_result",
          "data": {
            "text/plain": [
              "0.4254597158761765"
            ]
          },
          "metadata": {},
          "execution_count": 28
        }
      ]
    },
    {
      "cell_type": "code",
      "source": [
        "\n",
        "'''# Calculate AUC \n",
        "y_result = model.predict(y_test.batch(100))\n",
        "auc = metrics.roc_auc_score(y_test, y_result)\n",
        "\n",
        "print(auc)'''\n"
      ],
      "metadata": {
        "colab": {
          "base_uri": "https://localhost:8080/",
          "height": 356
        },
        "id": "NMctZczSEEBZ",
        "outputId": "c47aa714-b071-489c-e49e-383f75960f5c"
      },
      "execution_count": null,
      "outputs": [
        {
          "output_type": "error",
          "ename": "AttributeError",
          "evalue": "ignored",
          "traceback": [
            "\u001b[0;31m---------------------------------------------------------------------------\u001b[0m",
            "\u001b[0;31mAttributeError\u001b[0m                            Traceback (most recent call last)",
            "\u001b[0;32m<ipython-input-51-09589cb591b5>\u001b[0m in \u001b[0;36m<cell line: 2>\u001b[0;34m()\u001b[0m\n\u001b[1;32m      1\u001b[0m \u001b[0;31m# Calculate AUC\u001b[0m\u001b[0;34m\u001b[0m\u001b[0;34m\u001b[0m\u001b[0m\n\u001b[0;32m----> 2\u001b[0;31m \u001b[0my_result\u001b[0m \u001b[0;34m=\u001b[0m \u001b[0mmodel\u001b[0m\u001b[0;34m.\u001b[0m\u001b[0mpredict\u001b[0m\u001b[0;34m(\u001b[0m\u001b[0my_test\u001b[0m\u001b[0;34m.\u001b[0m\u001b[0mbatch\u001b[0m\u001b[0;34m(\u001b[0m\u001b[0;36m100\u001b[0m\u001b[0;34m)\u001b[0m\u001b[0;34m)\u001b[0m\u001b[0;34m\u001b[0m\u001b[0;34m\u001b[0m\u001b[0m\n\u001b[0m\u001b[1;32m      3\u001b[0m \u001b[0mauc\u001b[0m \u001b[0;34m=\u001b[0m \u001b[0mmetrics\u001b[0m\u001b[0;34m.\u001b[0m\u001b[0mroc_auc_score\u001b[0m\u001b[0;34m(\u001b[0m\u001b[0my_test\u001b[0m\u001b[0;34m,\u001b[0m \u001b[0my_result\u001b[0m\u001b[0;34m)\u001b[0m\u001b[0;34m\u001b[0m\u001b[0;34m\u001b[0m\u001b[0m\n\u001b[1;32m      4\u001b[0m \u001b[0;34m\u001b[0m\u001b[0m\n\u001b[1;32m      5\u001b[0m \u001b[0mprint\u001b[0m\u001b[0;34m(\u001b[0m\u001b[0mauc\u001b[0m\u001b[0;34m)\u001b[0m\u001b[0;34m\u001b[0m\u001b[0;34m\u001b[0m\u001b[0m\n",
            "\u001b[0;32m/usr/local/lib/python3.10/dist-packages/pandas/core/generic.py\u001b[0m in \u001b[0;36m__getattr__\u001b[0;34m(self, name)\u001b[0m\n\u001b[1;32m   5900\u001b[0m         ):\n\u001b[1;32m   5901\u001b[0m             \u001b[0;32mreturn\u001b[0m \u001b[0mself\u001b[0m\u001b[0;34m[\u001b[0m\u001b[0mname\u001b[0m\u001b[0;34m]\u001b[0m\u001b[0;34m\u001b[0m\u001b[0;34m\u001b[0m\u001b[0m\n\u001b[0;32m-> 5902\u001b[0;31m         \u001b[0;32mreturn\u001b[0m \u001b[0mobject\u001b[0m\u001b[0;34m.\u001b[0m\u001b[0m__getattribute__\u001b[0m\u001b[0;34m(\u001b[0m\u001b[0mself\u001b[0m\u001b[0;34m,\u001b[0m \u001b[0mname\u001b[0m\u001b[0;34m)\u001b[0m\u001b[0;34m\u001b[0m\u001b[0;34m\u001b[0m\u001b[0m\n\u001b[0m\u001b[1;32m   5903\u001b[0m \u001b[0;34m\u001b[0m\u001b[0m\n\u001b[1;32m   5904\u001b[0m     \u001b[0;32mdef\u001b[0m \u001b[0m__setattr__\u001b[0m\u001b[0;34m(\u001b[0m\u001b[0mself\u001b[0m\u001b[0;34m,\u001b[0m \u001b[0mname\u001b[0m\u001b[0;34m:\u001b[0m \u001b[0mstr\u001b[0m\u001b[0;34m,\u001b[0m \u001b[0mvalue\u001b[0m\u001b[0;34m)\u001b[0m \u001b[0;34m->\u001b[0m \u001b[0;32mNone\u001b[0m\u001b[0;34m:\u001b[0m\u001b[0;34m\u001b[0m\u001b[0;34m\u001b[0m\u001b[0m\n",
            "\u001b[0;31mAttributeError\u001b[0m: 'Series' object has no attribute 'batch'"
          ]
        }
      ]
    }
  ]
}